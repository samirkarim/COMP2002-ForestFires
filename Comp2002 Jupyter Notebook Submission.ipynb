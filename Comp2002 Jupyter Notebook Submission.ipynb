{
 "cells": [
  {
   "cell_type": "markdown",
   "id": "thrown-portable",
   "metadata": {},
   "source": [
    "# Comp2002 Part 1 Machine Learning"
   ]
  },
  {
   "cell_type": "markdown",
   "id": "altered-saying",
   "metadata": {},
   "source": [
    "## Modules used"
   ]
  },
  {
   "cell_type": "code",
   "execution_count": 177,
   "id": "fiscal-database",
   "metadata": {},
   "outputs": [],
   "source": [
    "# Pandas module for importing the data from the csv\n",
    "import pandas as pd\n",
    "#Principle Component Analysis module for reducing data dimensionality from 13 to 2 (plottable on xy)\n",
    "from sklearn.decomposition import PCA\n",
    "#Random forest regressor\n",
    "from sklearn.ensemble import RandomForestRegressor\n",
    "#Importing Numpy module for compressing array !!check if more uses needed\n",
    "import numpy as np\n",
    "#train test split\n",
    "from sklearn.model_selection import train_test_split\n",
    "#mean absolute error\n",
    "from sklearn.metrics import mean_absolute_error\n",
    "#for normalising\n",
    "from sklearn.preprocessing import MinMaxScaler\n",
    "#for cross validation\n",
    "from sklearn.model_selection import cross_val_score\n",
    "#for the neural network\n",
    "from sklearn.neural_network import MLPRegressor\n",
    "#importing the svm\n",
    "from sklearn import svm\n",
    "#importing the module for boxplots\n",
    "import matplotlib.pyplot as plt\n",
    "#for the evolutionary computation\n",
    "import random"
   ]
  },
  {
   "cell_type": "code",
   "execution_count": 2,
   "id": "unusual-pension",
   "metadata": {},
   "outputs": [],
   "source": [
    "#pandas properties and methods\n",
    "#dir(pd)"
   ]
  },
  {
   "cell_type": "code",
   "execution_count": 3,
   "id": "instrumental-implement",
   "metadata": {},
   "outputs": [],
   "source": [
    "#PCA properties and methods\n",
    "#dir(PCA) "
   ]
  },
  {
   "cell_type": "code",
   "execution_count": 4,
   "id": "binary-segment",
   "metadata": {},
   "outputs": [],
   "source": [
    "#Numpy properties and methods\n",
    "#dir(np)"
   ]
  },
  {
   "cell_type": "markdown",
   "id": "fantastic-queens",
   "metadata": {},
   "source": [
    "## Task 1.1 Data preparation\n",
    "\n",
    "- ### Loading the data\n",
    "- ### Normalising the data\n"
   ]
  },
  {
   "cell_type": "markdown",
   "id": "mental-motorcycle",
   "metadata": {},
   "source": [
    "### Loading the data"
   ]
  },
  {
   "cell_type": "code",
   "execution_count": 5,
   "id": "comprehensive-lithuania",
   "metadata": {},
   "outputs": [
    {
     "name": "stdout",
     "output_type": "stream",
     "text": [
      "     day  month  year  Temperature   RH   Ws  Rain   FFMC  DMC    DC  ISI  \\\n",
      "0      1      6  2012           29   57   18    0.0  65.7  3.4   7.6  1.3   \n",
      "1      2      6  2012           29   61   13    1.3  64.4  4.1   7.6  1.0   \n",
      "2      3      6  2012           26   82   22   13.1  47.1  2.5   7.1  0.3   \n",
      "3      4      6  2012           25   89   13    2.5  28.6  1.3   6.9  0.0   \n",
      "4      5      6  2012           27   77   16    0.0  64.8  3.0  14.2  1.2   \n",
      "..   ...    ...   ...          ...  ...  ...    ...   ...  ...   ...  ...   \n",
      "117   26      9  2012           31   54   11    0.0  82.0  6.0  16.3  2.5   \n",
      "118   27      9  2012           31   66   11    0.0  85.7  8.3  24.9  4.0   \n",
      "119   28      9  2012           32   47   14    0.7  77.5  7.1   8.8  1.8   \n",
      "120   29      9  2012           26   80   16    1.8  47.4  2.9   7.7  0.3   \n",
      "121   30      9  2012           25   78   14    1.4  45.0  1.9   7.5  0.2   \n",
      "\n",
      "     BUI  FWI  \n",
      "0    3.4  0.5  \n",
      "1    3.9  0.4  \n",
      "2    2.7  0.1  \n",
      "3    1.7  0.0  \n",
      "4    3.9  0.5  \n",
      "..   ...  ...  \n",
      "117  6.2  1.7  \n",
      "118  9.0  4.1  \n",
      "119  6.8  0.9  \n",
      "120  3.0  0.1  \n",
      "121  2.4  0.1  \n",
      "\n",
      "[122 rows x 13 columns]\n"
     ]
    }
   ],
   "source": [
    "#importing the data from both csv files\n",
    "dataframeFF1 = pd.read_csv('AlgerianFF_Region1.csv')\n",
    "dataframeFF2 = pd.read_csv('AlgerianFF_Region2.csv')\n",
    "print(dataframeFF1)"
   ]
  },
  {
   "cell_type": "code",
   "execution_count": 6,
   "id": "classified-jefferson",
   "metadata": {},
   "outputs": [
    {
     "name": "stdout",
     "output_type": "stream",
     "text": [
      "     day  month  year  Temperature   RH   Ws  Rain   FFMC   DMC    DC  ISI  \\\n",
      "0      1      6  2012           32   71   12    0.7  57.1   2.5   8.2  0.6   \n",
      "1      2      6  2012           30   73   13    4.0  55.7   2.7   7.8  0.6   \n",
      "2      3      6  2012           29   80   14    2.0  48.7   2.2   7.6  0.3   \n",
      "3      4      6  2012           30   64   14    0.0  79.4   5.2  15.4  2.2   \n",
      "4      5      6  2012           32   60   14    0.2  77.1   6.0  17.6  1.8   \n",
      "..   ...    ...   ...          ...  ...  ...    ...   ...   ...   ...  ...   \n",
      "117   26      9  2012           30   65   14    0.0  85.4  16.0  44.5  4.5   \n",
      "118   27      9  2012           28   87   15    4.4  41.1   6.5   8.0  0.1   \n",
      "119   28      9  2012           27   87   29    0.5  45.9   3.5   7.9  0.4   \n",
      "120   29      9  2012           24   54   18    0.1  79.7   4.3  15.2  1.7   \n",
      "121   30      9  2012           24   64   15    0.2  67.3   3.8  16.5  1.2   \n",
      "\n",
      "      BUI  FWI  \n",
      "0     2.8  0.2  \n",
      "1     2.9  0.2  \n",
      "2     2.6  0.1  \n",
      "3     5.6  1.0  \n",
      "4     6.5  0.9  \n",
      "..    ...  ...  \n",
      "117  16.9  6.5  \n",
      "118   6.2  0.0  \n",
      "119   3.4  0.2  \n",
      "120   5.1  0.7  \n",
      "121   4.8  0.5  \n",
      "\n",
      "[122 rows x 13 columns]\n"
     ]
    }
   ],
   "source": [
    "print(dataframeFF2)"
   ]
  },
  {
   "cell_type": "code",
   "execution_count": 7,
   "id": "pursuant-retro",
   "metadata": {},
   "outputs": [],
   "source": [
    "#using pandas to make 1 combined dataframe\n",
    "dataframeCombined = pd.concat([dataframeFF1,dataframeFF2])"
   ]
  },
  {
   "cell_type": "code",
   "execution_count": 8,
   "id": "compressed-wrist",
   "metadata": {},
   "outputs": [
    {
     "name": "stdout",
     "output_type": "stream",
     "text": [
      "     day  month  year  Temperature   RH   Ws  Rain   FFMC   DMC    DC  ISI  \\\n",
      "0      1      6  2012           29   57   18    0.0  65.7   3.4   7.6  1.3   \n",
      "1      2      6  2012           29   61   13    1.3  64.4   4.1   7.6  1.0   \n",
      "2      3      6  2012           26   82   22   13.1  47.1   2.5   7.1  0.3   \n",
      "3      4      6  2012           25   89   13    2.5  28.6   1.3   6.9  0.0   \n",
      "4      5      6  2012           27   77   16    0.0  64.8   3.0  14.2  1.2   \n",
      "..   ...    ...   ...          ...  ...  ...    ...   ...   ...   ...  ...   \n",
      "117   26      9  2012           30   65   14    0.0  85.4  16.0  44.5  4.5   \n",
      "118   27      9  2012           28   87   15    4.4  41.1   6.5   8.0  0.1   \n",
      "119   28      9  2012           27   87   29    0.5  45.9   3.5   7.9  0.4   \n",
      "120   29      9  2012           24   54   18    0.1  79.7   4.3  15.2  1.7   \n",
      "121   30      9  2012           24   64   15    0.2  67.3   3.8  16.5  1.2   \n",
      "\n",
      "      BUI  FWI  \n",
      "0     3.4  0.5  \n",
      "1     3.9  0.4  \n",
      "2     2.7  0.1  \n",
      "3     1.7  0.0  \n",
      "4     3.9  0.5  \n",
      "..    ...  ...  \n",
      "117  16.9  6.5  \n",
      "118   6.2  0.0  \n",
      "119   3.4  0.2  \n",
      "120   5.1  0.7  \n",
      "121   4.8  0.5  \n",
      "\n",
      "[244 rows x 13 columns]\n"
     ]
    }
   ],
   "source": [
    "#244 rows expected - no missing data\n",
    "print(dataframeCombined)"
   ]
  },
  {
   "cell_type": "markdown",
   "id": "found-garden",
   "metadata": {},
   "source": [
    "### Normalising the data"
   ]
  },
  {
   "cell_type": "code",
   "execution_count": 9,
   "id": "prime-banner",
   "metadata": {},
   "outputs": [],
   "source": [
    "scaler = MinMaxScaler()"
   ]
  },
  {
   "cell_type": "code",
   "execution_count": 10,
   "id": "compliant-stereo",
   "metadata": {},
   "outputs": [
    {
     "data": {
      "text/plain": [
       "MinMaxScaler()"
      ]
     },
     "execution_count": 10,
     "metadata": {},
     "output_type": "execute_result"
    }
   ],
   "source": [
    "scaler.fit(dataframeCombined)"
   ]
  },
  {
   "cell_type": "code",
   "execution_count": 11,
   "id": "flexible-tractor",
   "metadata": {},
   "outputs": [],
   "source": [
    "scaledDataframe = scaler.transform(dataframeCombined)"
   ]
  },
  {
   "cell_type": "code",
   "execution_count": 12,
   "id": "biological-settle",
   "metadata": {},
   "outputs": [
    {
     "name": "stdout",
     "output_type": "stream",
     "text": [
      "[[0.         0.         0.         ... 0.06842105 0.03437967 0.01607717]\n",
      " [0.03333333 0.         0.         ... 0.05263158 0.04185351 0.01286174]\n",
      " [0.06666667 0.         0.         ... 0.01578947 0.02391629 0.00321543]\n",
      " ...\n",
      " [0.9        1.         0.         ... 0.02105263 0.03437967 0.00643087]\n",
      " [0.93333333 1.         0.         ... 0.08947368 0.05979073 0.02250804]\n",
      " [0.96666667 1.         0.         ... 0.06315789 0.05530643 0.01607717]]\n"
     ]
    }
   ],
   "source": [
    "print(scaledDataframe)"
   ]
  },
  {
   "cell_type": "markdown",
   "id": "lesser-finding",
   "metadata": {},
   "source": [
    "Preparing code for the random forest regressor"
   ]
  },
  {
   "cell_type": "code",
   "execution_count": 13,
   "id": "seasonal-malawi",
   "metadata": {},
   "outputs": [
    {
     "name": "stdout",
     "output_type": "stream",
     "text": [
      "[[0.00000000e+00 0.00000000e+00 0.00000000e+00 ... 3.27868852e-03\n",
      "  6.84210526e-02 3.43796712e-02]\n",
      " [3.33333333e-02 0.00000000e+00 0.00000000e+00 ... 3.27868852e-03\n",
      "  5.26315789e-02 4.18535127e-02]\n",
      " [6.66666667e-02 0.00000000e+00 0.00000000e+00 ... 9.36768150e-04\n",
      "  1.57894737e-02 2.39162930e-02]\n",
      " ...\n",
      " [9.00000000e-01 1.00000000e+00 0.00000000e+00 ... 4.68384075e-03\n",
      "  2.10526316e-02 3.43796712e-02]\n",
      " [9.33333333e-01 1.00000000e+00 0.00000000e+00 ... 3.88758782e-02\n",
      "  8.94736842e-02 5.97907324e-02]\n",
      " [9.66666667e-01 1.00000000e+00 0.00000000e+00 ... 4.49648712e-02\n",
      "  6.31578947e-02 5.53064275e-02]]\n"
     ]
    },
    {
     "data": {
      "text/plain": [
       "(244, 12)"
      ]
     },
     "execution_count": 13,
     "metadata": {},
     "output_type": "execute_result"
    }
   ],
   "source": [
    "#making x equal to the \"inputs\" (everything but final)\n",
    "#using the first 12 columns to predict the 13th (y)\n",
    "#244 values in 12 columns expected\n",
    "x = scaledDataframe[:, :-1]\n",
    "print(x)\n",
    "x.shape"
   ]
  },
  {
   "cell_type": "code",
   "execution_count": 14,
   "id": "forbidden-colombia",
   "metadata": {},
   "outputs": [
    {
     "name": "stdout",
     "output_type": "stream",
     "text": [
      "[0.01607717 0.01286174 0.00321543 0.         0.01607717 0.08038585\n",
      " 0.23151125 0.22829582 0.0096463  0.02893891 0.18006431 0.22829582\n",
      " 0.00643087 0.01286174 0.00321543 0.         0.         0.00643087\n",
      " 0.04501608 0.01286174 0.07073955 0.07395498 0.1221865  0.24115756\n",
      " 0.27009646 0.34083601 0.48231511 0.44694534 0.12540193 0.414791\n",
      " 0.01286174 0.0096463  0.01607717 0.05466238 0.15755627 0.21864952\n",
      " 0.10289389 0.25723473 0.0192926  0.01607717 0.07073955 0.02893891\n",
      " 0.10932476 0.02572347 0.01607717 0.01286174 0.11575563 0.19292605\n",
      " 0.35048232 0.12861736 0.2829582  0.09003215 0.06752412 0.04180064\n",
      " 0.23472669 0.49196141 0.49196141 0.36334405 0.38263666 0.34405145\n",
      " 0.50482315 0.02893891 0.02572347 0.02572347 0.12540193 0.19614148\n",
      " 0.21864952 0.25723473 0.08360129 0.31832797 0.37299035 0.38906752\n",
      " 0.13504823 0.32797428 0.34083601 0.20257235 0.13504823 0.46945338\n",
      " 0.51768489 0.55305466 0.54019293 0.59163987 0.65594855 0.7170418\n",
      " 0.67202572 0.65273312 0.44051447 0.4244373  0.63987138 0.97106109\n",
      " 0.13504823 0.0096463  0.00321543 0.         0.         0.01607717\n",
      " 0.05466238 0.02893891 0.0192926  0.01286174 0.00643087 0.0096463\n",
      " 0.0096463  0.01607717 0.         0.00321543 0.         0.02572347\n",
      " 0.18971061 0.24758842 0.31189711 0.20257235 0.26688103 0.09003215\n",
      " 0.02250804 0.02250804 0.00321543 0.05466238 0.1318328  0.02893891\n",
      " 0.00321543 0.00321543 0.00643087 0.00643087 0.00321543 0.03215434\n",
      " 0.02893891 0.09967846 0.19292605 0.02572347 0.06109325 0.32154341\n",
      " 0.53697749 0.414791   0.02893891 0.0096463  0.0192926  0.00321543\n",
      " 0.01286174 0.01286174 0.01286174 0.0096463  0.15755627 0.03858521\n",
      " 0.02572347 0.17041801 0.21543408 0.30546624 0.38585209 0.59163987\n",
      " 0.23151125 0.07073955 0.01607717 0.20578778 0.16720257 0.31832797\n",
      " 0.48231511 0.20257235 0.16720257 0.09646302 0.09967846 0.04180064\n",
      " 0.02572347 0.30868167 0.1511254  0.33440514 0.45337621 0.23472669\n",
      " 0.24758842 0.2926045  0.41800643 0.5562701  0.96463023 0.81672026\n",
      " 0.52411576 0.08038585 0.02250804 0.03215434 0.10289389 0.28938907\n",
      " 0.35048232 0.4244373  0.46623794 0.02572347 0.4340836  0.62700965\n",
      " 0.67202572 0.40514469 0.02572347 0.0192926  0.18971061 0.40836013\n",
      " 0.34405145 0.69453376 0.60450161 0.33762058 0.50482315 0.17684887\n",
      " 0.47588424 0.77170418 0.84565916 0.24758842 0.28938907 0.39228296\n",
      " 0.58199357 0.78778135 0.86495177 1.         0.97427653 0.8392283\n",
      " 0.19614148 0.18971061 0.51446945 0.62379421 0.         0.02572347\n",
      " 0.08038585 0.02250804 0.01286174 0.01286174 0.10289389 0.08681672\n",
      " 0.11897106 0.0096463  0.03858521 0.12540193 0.33118971 0.18327974\n",
      " 0.31511254 0.62057878 0.56270096 0.49517685 0.18006431 0.1221865\n",
      " 0.69453376 0.44051447 0.48874598 0.01286174 0.09646302 0.20900322\n",
      " 0.         0.00643087 0.02250804 0.01607717]\n"
     ]
    },
    {
     "data": {
      "text/plain": [
       "(244,)"
      ]
     },
     "execution_count": 14,
     "metadata": {},
     "output_type": "execute_result"
    }
   ],
   "source": [
    "#making y equal to the \"output\" (final column)\n",
    "#244 values expected\n",
    "y = scaledDataframe[:, -1]\n",
    "print(y)\n",
    "y.shape"
   ]
  },
  {
   "cell_type": "code",
   "execution_count": 15,
   "id": "norman-archives",
   "metadata": {},
   "outputs": [],
   "source": [
    "#normalising data\n"
   ]
  },
  {
   "cell_type": "code",
   "execution_count": 16,
   "id": "editorial-diameter",
   "metadata": {},
   "outputs": [],
   "source": [
    "#splitting the data into testing and training inputs\n",
    "#20% for testing, 80% for training\n",
    "xtrain, xtest, ytrain, ytest = train_test_split(x, y, test_size=0.2)"
   ]
  },
  {
   "cell_type": "markdown",
   "id": "skilled-rotation",
   "metadata": {},
   "source": [
    "## Task 1.2 Regression\n",
    "\n",
    "- ### Random Forest Regressor\n",
    "- ### Multi-Layer Perceptron Regressor\n",
    "- ### Support Vector Machine \n"
   ]
  },
  {
   "cell_type": "markdown",
   "id": "through-petroleum",
   "metadata": {},
   "source": [
    "### Random Forest Regressor\n",
    "#### Fitting the regressor"
   ]
  },
  {
   "cell_type": "code",
   "execution_count": 17,
   "id": "durable-matthew",
   "metadata": {
    "scrolled": false
   },
   "outputs": [
    {
     "data": {
      "text/plain": [
       "RandomForestRegressor(n_estimators=20)"
      ]
     },
     "execution_count": 17,
     "metadata": {},
     "output_type": "execute_result"
    }
   ],
   "source": [
    "#setting the regressor's parameters\n",
    "RFregressor = RandomForestRegressor(n_estimators = 20)\n",
    "RFregressor.fit(xtrain, ytrain)"
   ]
  },
  {
   "cell_type": "markdown",
   "id": "actual-booking",
   "metadata": {},
   "source": [
    "#### Testing the regressor"
   ]
  },
  {
   "cell_type": "code",
   "execution_count": 18,
   "id": "timely-bracelet",
   "metadata": {},
   "outputs": [
    {
     "data": {
      "text/plain": [
       "array([0.24067524, 0.59549839, 0.31977492, 0.02893891, 0.32942122,\n",
       "       0.00434084, 0.38199357, 0.00305466, 0.0807074 , 0.08874598,\n",
       "       0.46012862, 0.01398714, 0.11366559, 0.0159164 , 0.01736334,\n",
       "       0.01318328, 0.30707395, 0.56254019, 0.41045016, 0.84421222,\n",
       "       0.01832797, 0.02073955, 0.11864952, 0.87363344, 0.10048232,\n",
       "       0.27266881, 0.19581994, 0.01350482, 0.0573955 , 0.01141479,\n",
       "       0.18874598, 0.14517685, 0.14115756, 0.00836013, 0.02090032,\n",
       "       0.20434084, 0.23858521, 0.16543408, 0.02524116, 0.16848875,\n",
       "       0.01993569, 0.48488746, 0.56736334, 0.18536977, 0.78135048,\n",
       "       0.30787781, 0.23102894, 0.37009646, 0.01205788])"
      ]
     },
     "execution_count": 18,
     "metadata": {},
     "output_type": "execute_result"
    }
   ],
   "source": [
    "#array being tested\n",
    "RFregressor.predict(xtest)"
   ]
  },
  {
   "cell_type": "code",
   "execution_count": 19,
   "id": "understanding-camping",
   "metadata": {},
   "outputs": [
    {
     "data": {
      "text/plain": [
       "(49, 12)"
      ]
     },
     "execution_count": 19,
     "metadata": {},
     "output_type": "execute_result"
    }
   ],
   "source": [
    "xtest.shape"
   ]
  },
  {
   "cell_type": "code",
   "execution_count": 20,
   "id": "tracked-illness",
   "metadata": {},
   "outputs": [],
   "source": [
    "ypredictRF = RFregressor.predict(xtest)"
   ]
  },
  {
   "cell_type": "code",
   "execution_count": 21,
   "id": "aquatic-sauce",
   "metadata": {},
   "outputs": [
    {
     "name": "stdout",
     "output_type": "stream",
     "text": [
      "0.025415053481199556\n"
     ]
    }
   ],
   "source": [
    "mae = mean_absolute_error(ytest, ypredictRF)\n",
    "print(mae)"
   ]
  },
  {
   "cell_type": "markdown",
   "id": "above-viewer",
   "metadata": {},
   "source": [
    "### Neural Network (MLP Regressor)"
   ]
  },
  {
   "cell_type": "code",
   "execution_count": 22,
   "id": "divided-bronze",
   "metadata": {},
   "outputs": [],
   "source": [
    "# fitting the regressor\n",
    "MultiLayerPerceptronRegressor = MLPRegressor(random_state=1, max_iter=500).fit(xtrain, ytrain)"
   ]
  },
  {
   "cell_type": "code",
   "execution_count": 23,
   "id": "thermal-engine",
   "metadata": {
    "scrolled": true
   },
   "outputs": [
    {
     "data": {
      "text/plain": [
       "array([ 0.2479216 ,  0.52080444,  0.35043602,  0.10364107,  0.46689907,\n",
       "       -0.02088671,  0.59698127, -0.09118614,  0.10959309,  0.14827791,\n",
       "        0.44043383, -0.01452304,  0.11942887,  0.01706451, -0.0235584 ,\n",
       "        0.05731153,  0.34378616,  0.55689981,  0.43936704,  0.82606619,\n",
       "       -0.00633111,  0.03644362,  0.30827225,  0.92582316,  0.15911904,\n",
       "        0.27330268,  0.24781765, -0.00670057,  0.11163088, -0.00542189,\n",
       "        0.22560594,  0.1368118 ,  0.25066657, -0.01936072,  0.03378964,\n",
       "        0.17759549,  0.20978155,  0.19868234,  0.07967634,  0.37812355,\n",
       "        0.03669511,  0.57029711,  0.58841649,  0.30652812,  0.92086405,\n",
       "        0.31571012,  0.23461627,  0.36843028, -0.0229346 ])"
      ]
     },
     "execution_count": 23,
     "metadata": {},
     "output_type": "execute_result"
    }
   ],
   "source": [
    "MultiLayerPerceptronRegressor.predict(xtest)"
   ]
  },
  {
   "cell_type": "code",
   "execution_count": 24,
   "id": "foreign-approval",
   "metadata": {},
   "outputs": [],
   "source": [
    "ypredictMLP = MultiLayerPerceptronRegressor.predict(xtest)"
   ]
  },
  {
   "cell_type": "code",
   "execution_count": 25,
   "id": "driven-theorem",
   "metadata": {},
   "outputs": [],
   "source": [
    "maeMLP = mean_absolute_error(ytest, ypredictMLP)"
   ]
  },
  {
   "cell_type": "code",
   "execution_count": 26,
   "id": "worldwide-marking",
   "metadata": {},
   "outputs": [
    {
     "name": "stdout",
     "output_type": "stream",
     "text": [
      "0.04944088504495803\n"
     ]
    }
   ],
   "source": [
    "print(maeMLP)"
   ]
  },
  {
   "cell_type": "code",
   "execution_count": 27,
   "id": "continued-scenario",
   "metadata": {},
   "outputs": [
    {
     "data": {
      "text/plain": [
       "0.9280718048133475"
      ]
     },
     "execution_count": 27,
     "metadata": {},
     "output_type": "execute_result"
    }
   ],
   "source": [
    "MultiLayerPerceptronRegressor.score(xtest, ytest)"
   ]
  },
  {
   "cell_type": "markdown",
   "id": "disciplinary-smile",
   "metadata": {},
   "source": [
    "### Support Vector Machine"
   ]
  },
  {
   "cell_type": "code",
   "execution_count": 28,
   "id": "worst-verification",
   "metadata": {},
   "outputs": [],
   "source": [
    "#\n",
    "SVMRegressor = svm.SVR()"
   ]
  },
  {
   "cell_type": "code",
   "execution_count": 29,
   "id": "broadband-exhaust",
   "metadata": {},
   "outputs": [
    {
     "data": {
      "text/plain": [
       "SVR()"
      ]
     },
     "execution_count": 29,
     "metadata": {},
     "output_type": "execute_result"
    }
   ],
   "source": [
    "SVMRegressor.fit(xtrain, ytrain)"
   ]
  },
  {
   "cell_type": "code",
   "execution_count": 30,
   "id": "integral-garlic",
   "metadata": {},
   "outputs": [
    {
     "data": {
      "text/plain": [
       "array([0.23275725, 0.54762568, 0.29908053, 0.12722161, 0.41065601,\n",
       "       0.08388503, 0.45971178, 0.14436947, 0.1525984 , 0.16252529,\n",
       "       0.45395719, 0.06817047, 0.13202808, 0.04390456, 0.06685693,\n",
       "       0.07132613, 0.29532778, 0.62031883, 0.44764278, 0.85210807,\n",
       "       0.09182917, 0.06509085, 0.24223174, 0.86476967, 0.13798581,\n",
       "       0.24065346, 0.23864365, 0.10157138, 0.10450642, 0.07345617,\n",
       "       0.19949462, 0.13664384, 0.21866512, 0.07139931, 0.07739293,\n",
       "       0.19301656, 0.19243951, 0.18358786, 0.08896158, 0.31358089,\n",
       "       0.05268765, 0.50486632, 0.60623747, 0.26901645, 0.76708013,\n",
       "       0.27905273, 0.20797062, 0.3646954 , 0.06096998])"
      ]
     },
     "execution_count": 30,
     "metadata": {},
     "output_type": "execute_result"
    }
   ],
   "source": [
    "SVMRegressor.predict(xtest)"
   ]
  },
  {
   "cell_type": "code",
   "execution_count": 31,
   "id": "pursuant-information",
   "metadata": {},
   "outputs": [
    {
     "data": {
      "text/plain": [
       "(49, 12)"
      ]
     },
     "execution_count": 31,
     "metadata": {},
     "output_type": "execute_result"
    }
   ],
   "source": [
    "xtest.shape"
   ]
  },
  {
   "cell_type": "code",
   "execution_count": 32,
   "id": "spare-anchor",
   "metadata": {},
   "outputs": [],
   "source": [
    "ypredictSVM = SVMRegressor.predict(xtest)"
   ]
  },
  {
   "cell_type": "code",
   "execution_count": 33,
   "id": "static-notion",
   "metadata": {},
   "outputs": [],
   "source": [
    "maeSVM = mean_absolute_error(ytest, ypredictSVM)"
   ]
  },
  {
   "cell_type": "code",
   "execution_count": 261,
   "id": "signed-campus",
   "metadata": {},
   "outputs": [
    {
     "name": "stdout",
     "output_type": "stream",
     "text": [
      "0.05575545420422075\n"
     ]
    }
   ],
   "source": [
    "print(maeSVM)"
   ]
  },
  {
   "cell_type": "markdown",
   "id": "industrial-victoria",
   "metadata": {},
   "source": [
    "## Task 1.3 Assessment of Regression\n",
    "- ### Random Forest Regressor\n",
    "- ### Multi-Layer Perceptron Regressor\n",
    "- ### Support Vector Machine"
   ]
  },
  {
   "cell_type": "markdown",
   "id": "possible-contrast",
   "metadata": {},
   "source": [
    "- ### Random Forest Regressor"
   ]
  },
  {
   "cell_type": "code",
   "execution_count": 35,
   "id": "auburn-destination",
   "metadata": {},
   "outputs": [],
   "source": [
    "scoresRF = cross_val_score(RFregressor, x, y, cv=10)"
   ]
  },
  {
   "cell_type": "code",
   "execution_count": 36,
   "id": "infrared-kruger",
   "metadata": {},
   "outputs": [
    {
     "name": "stdout",
     "output_type": "stream",
     "text": [
      "[0.98257666 0.99195505 0.96031038 0.95459053 0.98844807 0.99333857\n",
      " 0.98204977 0.9457096  0.97123678 0.97997302]\n"
     ]
    }
   ],
   "source": [
    "print(scoresRF)"
   ]
  },
  {
   "cell_type": "markdown",
   "id": "sensitive-radius",
   "metadata": {},
   "source": [
    "- ### Multi-Layer Perceptron Regressor"
   ]
  },
  {
   "cell_type": "code",
   "execution_count": 37,
   "id": "motivated-container",
   "metadata": {},
   "outputs": [],
   "source": [
    "scoresPerceptron = cross_val_score(MultiLayerPerceptronRegressor, x, y, cv=10) "
   ]
  },
  {
   "cell_type": "code",
   "execution_count": 38,
   "id": "auburn-artist",
   "metadata": {
    "scrolled": true
   },
   "outputs": [
    {
     "name": "stdout",
     "output_type": "stream",
     "text": [
      "[0.70279878 0.91676998 0.94811387 0.93260704 0.70554723 0.88998058\n",
      " 0.93467549 0.94176336 0.9579651  0.92236336]\n"
     ]
    }
   ],
   "source": [
    "print(scoresPerceptron)"
   ]
  },
  {
   "cell_type": "markdown",
   "id": "mature-entertainment",
   "metadata": {},
   "source": [
    "- ### Support Vector Machine"
   ]
  },
  {
   "cell_type": "code",
   "execution_count": 39,
   "id": "effective-holiday",
   "metadata": {},
   "outputs": [],
   "source": [
    "scoresSVM = cross_val_score(SVMRegressor, x, y, cv = 10)"
   ]
  },
  {
   "cell_type": "code",
   "execution_count": 40,
   "id": "harmful-optimum",
   "metadata": {
    "scrolled": true
   },
   "outputs": [
    {
     "name": "stdout",
     "output_type": "stream",
     "text": [
      "[0.15169846 0.93164586 0.85367135 0.93026818 0.6578081  0.79667494\n",
      " 0.87468344 0.89970461 0.96935086 0.86843774]\n"
     ]
    }
   ],
   "source": [
    "print(scoresSVM)"
   ]
  },
  {
   "cell_type": "code",
   "execution_count": 41,
   "id": "driven-heritage",
   "metadata": {},
   "outputs": [
    {
     "data": {
      "text/plain": [
       "{'whiskers': [<matplotlib.lines.Line2D at 0x2911e74d610>,\n",
       "  <matplotlib.lines.Line2D at 0x2911e74d970>,\n",
       "  <matplotlib.lines.Line2D at 0x2911e765e20>,\n",
       "  <matplotlib.lines.Line2D at 0x2911e76e1c0>,\n",
       "  <matplotlib.lines.Line2D at 0x2911e779640>,\n",
       "  <matplotlib.lines.Line2D at 0x2911e7799a0>],\n",
       " 'caps': [<matplotlib.lines.Line2D at 0x2911e74dcd0>,\n",
       "  <matplotlib.lines.Line2D at 0x2911e765070>,\n",
       "  <matplotlib.lines.Line2D at 0x2911e76e520>,\n",
       "  <matplotlib.lines.Line2D at 0x2911e76e880>,\n",
       "  <matplotlib.lines.Line2D at 0x2911e779d00>,\n",
       "  <matplotlib.lines.Line2D at 0x2911e7830a0>],\n",
       " 'boxes': [<matplotlib.lines.Line2D at 0x2911e74d250>,\n",
       "  <matplotlib.lines.Line2D at 0x2911e765ac0>,\n",
       "  <matplotlib.lines.Line2D at 0x2911e7792e0>],\n",
       " 'medians': [<matplotlib.lines.Line2D at 0x2911e7653d0>,\n",
       "  <matplotlib.lines.Line2D at 0x2911e76ebe0>,\n",
       "  <matplotlib.lines.Line2D at 0x2911e783400>],\n",
       " 'fliers': [<matplotlib.lines.Line2D at 0x2911e765730>,\n",
       "  <matplotlib.lines.Line2D at 0x2911e76ef40>,\n",
       "  <matplotlib.lines.Line2D at 0x2911e783760>],\n",
       " 'means': []}"
      ]
     },
     "execution_count": 41,
     "metadata": {},
     "output_type": "execute_result"
    },
    {
     "data": {
      "image/png": "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\n",
      "text/plain": [
       "<Figure size 432x288 with 1 Axes>"
      ]
     },
     "metadata": {
      "needs_background": "light"
     },
     "output_type": "display_data"
    }
   ],
   "source": [
    "fig1, ax1 = plt.subplots()\n",
    "plt.title('Success of machine learning [applications]')\n",
    "ax1.boxplot([scoresRF,scoresSVM, scoresPerceptron], labels = ['RF','SVM', 'MLP'])\n",
    "#titles for each boxplot\n"
   ]
  }
}
