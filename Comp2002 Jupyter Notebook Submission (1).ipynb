{
  "metadata": {
    "kernelspec": {
      "name": "python",
      "display_name": "Python (Pyodide)",
      "language": "python"
    },
    "language_info": {
      "codemirror_mode": {
        "name": "python",
        "version": 3
      },
      "file_extension": ".py",
      "mimetype": "text/x-python",
      "name": "python",
      "nbconvert_exporter": "python",
      "pygments_lexer": "ipython3",
      "version": "3.8"
    }
  },
  "nbformat_minor": 5,
  "nbformat": 4,
  "cells": [
    {
      "id": "thrown-portable",
      "cell_type": "markdown",
      "source": "# Comp2002 Part 1 Machine Learning",
      "metadata": {}
    },
    {
      "id": "altered-saying",
      "cell_type": "markdown",
      "source": "## Modules used",
      "metadata": {}
    },
    {
      "id": "fiscal-database",
      "cell_type": "code",
      "source": "# Pandas module for importing the data from the csv\nimport pandas as pd\n#Principle Component Analysis module for reducing data dimensionality from 13 to 2 (plottable on xy)\nfrom sklearn.decomposition import PCA\n#Random forest regressor\nfrom sklearn.ensemble import RandomForestRegressor\n#Importing Numpy module for compressing array !!check if more uses needed\nimport numpy as np\n#train test split\nfrom sklearn.model_selection import train_test_split\n#mean absolute error\nfrom sklearn.metrics import mean_absolute_error\n#for normalising\nfrom sklearn.preprocessing import MinMaxScaler\n#for cross validation\nfrom sklearn.model_selection import cross_val_score\n#for the neural network\nfrom sklearn.neural_network import MLPRegressor\n#importing the svm\nfrom sklearn import svm\n#importing the module for boxplots\nimport matplotlib.pyplot as plt\n#for the evolutionary computation\nimport random",
      "metadata": {},
      "outputs": [],
      "execution_count": 177
    },
    {
      "id": "unusual-pension",
      "cell_type": "code",
      "source": "#pandas properties and methods\n#dir(pd)",
      "metadata": {},
      "outputs": [],
      "execution_count": 2
    },
    {
      "id": "instrumental-implement",
      "cell_type": "code",
      "source": "#PCA properties and methods\n#dir(PCA) ",
      "metadata": {},
      "outputs": [],
      "execution_count": 3
    },
    {
      "id": "binary-segment",
      "cell_type": "code",
      "source": "#Numpy properties and methods\n#dir(np)",
      "metadata": {},
      "outputs": [],
      "execution_count": 4
    },
    {
      "id": "fantastic-queens",
      "cell_type": "markdown",
      "source": "## Task 1.1 Data preparation\n\n- ### Loading the data\n- ### Normalising the data\n",
      "metadata": {}
    },
    {
      "id": "mental-motorcycle",
      "cell_type": "markdown",
      "source": "### Loading the data",
      "metadata": {}
    },
    {
      "id": "comprehensive-lithuania",
      "cell_type": "code",
      "source": "#importing the data from both csv files\ndataframeFF1 = pd.read_csv('AlgerianFF_Region1.csv')\ndataframeFF2 = pd.read_csv('AlgerianFF_Region2.csv')\nprint(dataframeFF1)",
      "metadata": {},
      "outputs": [
        {
          "name": "stdout",
          "output_type": "stream",
          "text": "     day  month  year  Temperature   RH   Ws  Rain   FFMC  DMC    DC  ISI  \\\n,0      1      6  2012           29   57   18    0.0  65.7  3.4   7.6  1.3   \n,1      2      6  2012           29   61   13    1.3  64.4  4.1   7.6  1.0   \n,2      3      6  2012           26   82   22   13.1  47.1  2.5   7.1  0.3   \n,3      4      6  2012           25   89   13    2.5  28.6  1.3   6.9  0.0   \n,4      5      6  2012           27   77   16    0.0  64.8  3.0  14.2  1.2   \n,..   ...    ...   ...          ...  ...  ...    ...   ...  ...   ...  ...   \n,117   26      9  2012           31   54   11    0.0  82.0  6.0  16.3  2.5   \n,118   27      9  2012           31   66   11    0.0  85.7  8.3  24.9  4.0   \n,119   28      9  2012           32   47   14    0.7  77.5  7.1   8.8  1.8   \n,120   29      9  2012           26   80   16    1.8  47.4  2.9   7.7  0.3   \n,121   30      9  2012           25   78   14    1.4  45.0  1.9   7.5  0.2   \n,\n,     BUI  FWI  \n,0    3.4  0.5  \n,1    3.9  0.4  \n,2    2.7  0.1  \n,3    1.7  0.0  \n,4    3.9  0.5  \n,..   ...  ...  \n,117  6.2  1.7  \n,118  9.0  4.1  \n,119  6.8  0.9  \n,120  3.0  0.1  \n,121  2.4  0.1  \n,\n,[122 rows x 13 columns]\n"
        }
      ],
      "execution_count": 5
    },
    {
      "id": "classified-jefferson",
      "cell_type": "code",
      "source": "print(dataframeFF2)",
      "metadata": {},
      "outputs": [
        {
          "name": "stdout",
          "output_type": "stream",
          "text": "     day  month  year  Temperature   RH   Ws  Rain   FFMC   DMC    DC  ISI  \\\n,0      1      6  2012           32   71   12    0.7  57.1   2.5   8.2  0.6   \n,1      2      6  2012           30   73   13    4.0  55.7   2.7   7.8  0.6   \n,2      3      6  2012           29   80   14    2.0  48.7   2.2   7.6  0.3   \n,3      4      6  2012           30   64   14    0.0  79.4   5.2  15.4  2.2   \n,4      5      6  2012           32   60   14    0.2  77.1   6.0  17.6  1.8   \n,..   ...    ...   ...          ...  ...  ...    ...   ...   ...   ...  ...   \n,117   26      9  2012           30   65   14    0.0  85.4  16.0  44.5  4.5   \n,118   27      9  2012           28   87   15    4.4  41.1   6.5   8.0  0.1   \n,119   28      9  2012           27   87   29    0.5  45.9   3.5   7.9  0.4   \n,120   29      9  2012           24   54   18    0.1  79.7   4.3  15.2  1.7   \n,121   30      9  2012           24   64   15    0.2  67.3   3.8  16.5  1.2   \n,\n,      BUI  FWI  \n,0     2.8  0.2  \n,1     2.9  0.2  \n,2     2.6  0.1  \n,3     5.6  1.0  \n,4     6.5  0.9  \n,..    ...  ...  \n,117  16.9  6.5  \n,118   6.2  0.0  \n,119   3.4  0.2  \n,120   5.1  0.7  \n,121   4.8  0.5  \n,\n,[122 rows x 13 columns]\n"
        }
      ],
      "execution_count": 6
    },
    {
      "id": "pursuant-retro",
      "cell_type": "code",
      "source": "#using pandas to make 1 combined dataframe\ndataframeCombined = pd.concat([dataframeFF1,dataframeFF2])",
      "metadata": {},
      "outputs": [],
      "execution_count": 7
    },
    {
      "id": "compressed-wrist",
      "cell_type": "code",
      "source": "#244 rows expected - no missing data\nprint(dataframeCombined)",
      "metadata": {},
      "outputs": [
        {
          "name": "stdout",
          "output_type": "stream",
          "text": "     day  month  year  Temperature   RH   Ws  Rain   FFMC   DMC    DC  ISI  \\\n,0      1      6  2012           29   57   18    0.0  65.7   3.4   7.6  1.3   \n,1      2      6  2012           29   61   13    1.3  64.4   4.1   7.6  1.0   \n,2      3      6  2012           26   82   22   13.1  47.1   2.5   7.1  0.3   \n,3      4      6  2012           25   89   13    2.5  28.6   1.3   6.9  0.0   \n,4      5      6  2012           27   77   16    0.0  64.8   3.0  14.2  1.2   \n,..   ...    ...   ...          ...  ...  ...    ...   ...   ...   ...  ...   \n,117   26      9  2012           30   65   14    0.0  85.4  16.0  44.5  4.5   \n,118   27      9  2012           28   87   15    4.4  41.1   6.5   8.0  0.1   \n,119   28      9  2012           27   87   29    0.5  45.9   3.5   7.9  0.4   \n,120   29      9  2012           24   54   18    0.1  79.7   4.3  15.2  1.7   \n,121   30      9  2012           24   64   15    0.2  67.3   3.8  16.5  1.2   \n,\n,      BUI  FWI  \n,0     3.4  0.5  \n,1     3.9  0.4  \n,2     2.7  0.1  \n,3     1.7  0.0  \n,4     3.9  0.5  \n,..    ...  ...  \n,117  16.9  6.5  \n,118   6.2  0.0  \n,119   3.4  0.2  \n,120   5.1  0.7  \n,121   4.8  0.5  \n,\n,[244 rows x 13 columns]\n"
        }
      ],
      "execution_count": 8
    },
    {
      "id": "found-garden",
      "cell_type": "markdown",
      "source": "### Normalising the data",
      "metadata": {}
    },
    {
      "id": "prime-banner",
      "cell_type": "code",
      "source": "scaler = MinMaxScaler()",
      "metadata": {},
      "outputs": [],
      "execution_count": 9
    },
    {
      "id": "compliant-stereo",
      "cell_type": "code",
      "source": "scaler.fit(dataframeCombined)",
      "metadata": {},
      "outputs": [
        {
          "data": {
            "text/plain": [
              "MinMaxScaler()"
            ]
          },
          "execution_count": 10,
          "metadata": {},
          "output_type": "execute_result"
        }
      ],
      "execution_count": 10
    },
    {
      "id": "flexible-tractor",
      "cell_type": "code",
      "source": "scaledDataframe = scaler.transform(dataframeCombined)",
      "metadata": {},
      "outputs": [],
      "execution_count": 11
    },
    {
      "id": "biological-settle",
      "cell_type": "code",
      "source": "print(scaledDataframe)",
      "metadata": {},
      "outputs": [
        {
          "name": "stdout",
          "output_type": "stream",
          "text": "[[0.         0.         0.         ... 0.06842105 0.03437967 0.01607717]\n, [0.03333333 0.         0.         ... 0.05263158 0.04185351 0.01286174]\n, [0.06666667 0.         0.         ... 0.01578947 0.02391629 0.00321543]\n, ...\n, [0.9        1.         0.         ... 0.02105263 0.03437967 0.00643087]\n, [0.93333333 1.         0.         ... 0.08947368 0.05979073 0.02250804]\n, [0.96666667 1.         0.         ... 0.06315789 0.05530643 0.01607717]]\n"
        }
      ],
      "execution_count": 12
    },
    {
      "id": "lesser-finding",
      "cell_type": "markdown",
      "source": "Preparing code for the random forest regressor",
      "metadata": {}
    },
    {
      "id": "seasonal-malawi",
      "cell_type": "code",
      "source": "#making x equal to the \"inputs\" (everything but final)\n#using the first 12 columns to predict the 13th (y)\n#244 values in 12 columns expected\nx = scaledDataframe[:, :-1]\nprint(x)\nx.shape",
      "metadata": {},
      "outputs": [
        {
          "name": "stdout",
          "output_type": "stream",
          "text": "[[0.00000000e+00 0.00000000e+00 0.00000000e+00 ... 3.27868852e-03\n,  6.84210526e-02 3.43796712e-02]\n, [3.33333333e-02 0.00000000e+00 0.00000000e+00 ... 3.27868852e-03\n,  5.26315789e-02 4.18535127e-02]\n, [6.66666667e-02 0.00000000e+00 0.00000000e+00 ... 9.36768150e-04\n,  1.57894737e-02 2.39162930e-02]\n, ...\n, [9.00000000e-01 1.00000000e+00 0.00000000e+00 ... 4.68384075e-03\n,  2.10526316e-02 3.43796712e-02]\n, [9.33333333e-01 1.00000000e+00 0.00000000e+00 ... 3.88758782e-02\n,  8.94736842e-02 5.97907324e-02]\n, [9.66666667e-01 1.00000000e+00 0.00000000e+00 ... 4.49648712e-02\n,  6.31578947e-02 5.53064275e-02]]\n"
        },
        {
          "data": {
            "text/plain": [
              "(244, 12)"
            ]
          },
          "execution_count": 13,
          "metadata": {},
          "output_type": "execute_result"
        }
      ],
      "execution_count": 13
    },
    {
      "id": "forbidden-colombia",
      "cell_type": "code",
      "source": "#making y equal to the \"output\" (final column)\n#244 values expected\ny = scaledDataframe[:, -1]\nprint(y)\ny.shape",
      "metadata": {},
      "outputs": [
        {
          "name": "stdout",
          "output_type": "stream",
          "text": "[0.01607717 0.01286174 0.00321543 0.         0.01607717 0.08038585\n, 0.23151125 0.22829582 0.0096463  0.02893891 0.18006431 0.22829582\n, 0.00643087 0.01286174 0.00321543 0.         0.         0.00643087\n, 0.04501608 0.01286174 0.07073955 0.07395498 0.1221865  0.24115756\n, 0.27009646 0.34083601 0.48231511 0.44694534 0.12540193 0.414791\n, 0.01286174 0.0096463  0.01607717 0.05466238 0.15755627 0.21864952\n, 0.10289389 0.25723473 0.0192926  0.01607717 0.07073955 0.02893891\n, 0.10932476 0.02572347 0.01607717 0.01286174 0.11575563 0.19292605\n, 0.35048232 0.12861736 0.2829582  0.09003215 0.06752412 0.04180064\n, 0.23472669 0.49196141 0.49196141 0.36334405 0.38263666 0.34405145\n, 0.50482315 0.02893891 0.02572347 0.02572347 0.12540193 0.19614148\n, 0.21864952 0.25723473 0.08360129 0.31832797 0.37299035 0.38906752\n, 0.13504823 0.32797428 0.34083601 0.20257235 0.13504823 0.46945338\n, 0.51768489 0.55305466 0.54019293 0.59163987 0.65594855 0.7170418\n, 0.67202572 0.65273312 0.44051447 0.4244373  0.63987138 0.97106109\n, 0.13504823 0.0096463  0.00321543 0.         0.         0.01607717\n, 0.05466238 0.02893891 0.0192926  0.01286174 0.00643087 0.0096463\n, 0.0096463  0.01607717 0.         0.00321543 0.         0.02572347\n, 0.18971061 0.24758842 0.31189711 0.20257235 0.26688103 0.09003215\n, 0.02250804 0.02250804 0.00321543 0.05466238 0.1318328  0.02893891\n, 0.00321543 0.00321543 0.00643087 0.00643087 0.00321543 0.03215434\n, 0.02893891 0.09967846 0.19292605 0.02572347 0.06109325 0.32154341\n, 0.53697749 0.414791   0.02893891 0.0096463  0.0192926  0.00321543\n, 0.01286174 0.01286174 0.01286174 0.0096463  0.15755627 0.03858521\n, 0.02572347 0.17041801 0.21543408 0.30546624 0.38585209 0.59163987\n, 0.23151125 0.07073955 0.01607717 0.20578778 0.16720257 0.31832797\n, 0.48231511 0.20257235 0.16720257 0.09646302 0.09967846 0.04180064\n, 0.02572347 0.30868167 0.1511254  0.33440514 0.45337621 0.23472669\n, 0.24758842 0.2926045  0.41800643 0.5562701  0.96463023 0.81672026\n, 0.52411576 0.08038585 0.02250804 0.03215434 0.10289389 0.28938907\n, 0.35048232 0.4244373  0.46623794 0.02572347 0.4340836  0.62700965\n, 0.67202572 0.40514469 0.02572347 0.0192926  0.18971061 0.40836013\n, 0.34405145 0.69453376 0.60450161 0.33762058 0.50482315 0.17684887\n, 0.47588424 0.77170418 0.84565916 0.24758842 0.28938907 0.39228296\n, 0.58199357 0.78778135 0.86495177 1.         0.97427653 0.8392283\n, 0.19614148 0.18971061 0.51446945 0.62379421 0.         0.02572347\n, 0.08038585 0.02250804 0.01286174 0.01286174 0.10289389 0.08681672\n, 0.11897106 0.0096463  0.03858521 0.12540193 0.33118971 0.18327974\n, 0.31511254 0.62057878 0.56270096 0.49517685 0.18006431 0.1221865\n, 0.69453376 0.44051447 0.48874598 0.01286174 0.09646302 0.20900322\n, 0.         0.00643087 0.02250804 0.01607717]\n"
        },
        {
          "data": {
            "text/plain": [
              "(244,)"
            ]
          },
          "execution_count": 14,
          "metadata": {},
          "output_type": "execute_result"
        }
      ],
      "execution_count": 14
    },
    {
      "id": "norman-archives",
      "cell_type": "code",
      "source": "#normalising data\n",
      "metadata": {},
      "outputs": [],
      "execution_count": 15
    },
    {
      "id": "editorial-diameter",
      "cell_type": "code",
      "source": "#splitting the data into testing and training inputs\n#20% for testing, 80% for training\nxtrain, xtest, ytrain, ytest = train_test_split(x, y, test_size=0.2)",
      "metadata": {},
      "outputs": [],
      "execution_count": 16
    },
    {
      "id": "skilled-rotation",
      "cell_type": "markdown",
      "source": "## Task 1.2 Regression\n\n- ### Random Forest Regressor\n- ### Multi-Layer Perceptron Regressor\n- ### Support Vector Machine \n",
      "metadata": {}
    },
    {
      "id": "through-petroleum",
      "cell_type": "markdown",
      "source": "### Random Forest Regressor\n#### Fitting the regressor",
      "metadata": {}
    },
    {
      "id": "durable-matthew",
      "cell_type": "code",
      "source": "#setting the regressor's parameters\nRFregressor = RandomForestRegressor(n_estimators = 20)\nRFregressor.fit(xtrain, ytrain)",
      "metadata": {},
      "outputs": [
        {
          "data": {
            "text/plain": [
              "RandomForestRegressor(n_estimators=20)"
            ]
          },
          "execution_count": 17,
          "metadata": {},
          "output_type": "execute_result"
        }
      ],
      "execution_count": 17
    },
    {
      "id": "actual-booking",
      "cell_type": "markdown",
      "source": "#### Testing the regressor",
      "metadata": {}
    },
    {
      "id": "timely-bracelet",
      "cell_type": "code",
      "source": "#array being tested\nRFregressor.predict(xtest)",
      "metadata": {},
      "outputs": [
        {
          "data": {
            "text/plain": [
              "array([0.24067524, 0.59549839, 0.31977492, 0.02893891, 0.32942122,\n",
              "       0.00434084, 0.38199357, 0.00305466, 0.0807074 , 0.08874598,\n",
              "       0.46012862, 0.01398714, 0.11366559, 0.0159164 , 0.01736334,\n",
              "       0.01318328, 0.30707395, 0.56254019, 0.41045016, 0.84421222,\n",
              "       0.01832797, 0.02073955, 0.11864952, 0.87363344, 0.10048232,\n",
              "       0.27266881, 0.19581994, 0.01350482, 0.0573955 , 0.01141479,\n",
              "       0.18874598, 0.14517685, 0.14115756, 0.00836013, 0.02090032,\n",
              "       0.20434084, 0.23858521, 0.16543408, 0.02524116, 0.16848875,\n",
              "       0.01993569, 0.48488746, 0.56736334, 0.18536977, 0.78135048,\n",
              "       0.30787781, 0.23102894, 0.37009646, 0.01205788])"
            ]
          },
          "execution_count": 18,
          "metadata": {},
          "output_type": "execute_result"
        }
      ],
      "execution_count": 18
    },
    {
      "id": "understanding-camping",
      "cell_type": "code",
      "source": "xtest.shape",
      "metadata": {},
      "outputs": [
        {
          "data": {
            "text/plain": [
              "(49, 12)"
            ]
          },
          "execution_count": 19,
          "metadata": {},
          "output_type": "execute_result"
        }
      ],
      "execution_count": 19
    },
    {
      "id": "tracked-illness",
      "cell_type": "code",
      "source": "ypredictRF = RFregressor.predict(xtest)",
      "metadata": {},
      "outputs": [],
      "execution_count": 20
    },
    {
      "id": "aquatic-sauce",
      "cell_type": "code",
      "source": "mae = mean_absolute_error(ytest, ypredictRF)\nprint(mae)",
      "metadata": {},
      "outputs": [
        {
          "name": "stdout",
          "output_type": "stream",
          "text": "0.025415053481199556\n"
        }
      ],
      "execution_count": 21
    },
    {
      "id": "above-viewer",
      "cell_type": "markdown",
      "source": "### Neural Network (MLP Regressor)",
      "metadata": {}
    },
    {
      "id": "divided-bronze",
      "cell_type": "code",
      "source": "# fitting the regressor\nMultiLayerPerceptronRegressor = MLPRegressor(random_state=1, max_iter=500).fit(xtrain, ytrain)",
      "metadata": {},
      "outputs": [],
      "execution_count": 22
    },
    {
      "id": "thermal-engine",
      "cell_type": "code",
      "source": "MultiLayerPerceptronRegressor.predict(xtest)",
      "metadata": {
        "scrolled": true
      },
      "outputs": [
        {
          "data": {
            "text/plain": [
              "array([ 0.2479216 ,  0.52080444,  0.35043602,  0.10364107,  0.46689907,\n",
              "       -0.02088671,  0.59698127, -0.09118614,  0.10959309,  0.14827791,\n",
              "        0.44043383, -0.01452304,  0.11942887,  0.01706451, -0.0235584 ,\n",
              "        0.05731153,  0.34378616,  0.55689981,  0.43936704,  0.82606619,\n",
              "       -0.00633111,  0.03644362,  0.30827225,  0.92582316,  0.15911904,\n",
              "        0.27330268,  0.24781765, -0.00670057,  0.11163088, -0.00542189,\n",
              "        0.22560594,  0.1368118 ,  0.25066657, -0.01936072,  0.03378964,\n",
              "        0.17759549,  0.20978155,  0.19868234,  0.07967634,  0.37812355,\n",
              "        0.03669511,  0.57029711,  0.58841649,  0.30652812,  0.92086405,\n",
              "        0.31571012,  0.23461627,  0.36843028, -0.0229346 ])"
            ]
          },
          "execution_count": 23,
          "metadata": {},
          "output_type": "execute_result"
        }
      ],
      "execution_count": 23
    },
    {
      "id": "foreign-approval",
      "cell_type": "code",
      "source": "ypredictMLP = MultiLayerPerceptronRegressor.predict(xtest)",
      "metadata": {},
      "outputs": [],
      "execution_count": 24
    },
    {
      "id": "driven-theorem",
      "cell_type": "code",
      "source": "maeMLP = mean_absolute_error(ytest, ypredictMLP)",
      "metadata": {},
      "outputs": [],
      "execution_count": 25
    },
    {
      "id": "worldwide-marking",
      "cell_type": "code",
      "source": "print(maeMLP)",
      "metadata": {},
      "outputs": [
        {
          "name": "stdout",
          "output_type": "stream",
          "text": "0.04944088504495803\n"
        }
      ],
      "execution_count": 26
    },
    {
      "id": "continued-scenario",
      "cell_type": "code",
      "source": "MultiLayerPerceptronRegressor.score(xtest, ytest)",
      "metadata": {},
      "outputs": [
        {
          "data": {
            "text/plain": [
              "0.9280718048133475"
            ]
          },
          "execution_count": 27,
          "metadata": {},
          "output_type": "execute_result"
        }
      ],
      "execution_count": 27
    },
    {
      "id": "disciplinary-smile",
      "cell_type": "markdown",
      "source": "### Support Vector Machine",
      "metadata": {}
    },
    {
      "id": "worst-verification",
      "cell_type": "code",
      "source": "#\nSVMRegressor = svm.SVR()",
      "metadata": {},
      "outputs": [],
      "execution_count": 28
    },
    {
      "id": "broadband-exhaust",
      "cell_type": "code",
      "source": "SVMRegressor.fit(xtrain, ytrain)",
      "metadata": {},
      "outputs": [
        {
          "data": {
            "text/plain": [
              "SVR()"
            ]
          },
          "execution_count": 29,
          "metadata": {},
          "output_type": "execute_result"
        }
      ],
      "execution_count": 29
    },
    {
      "id": "integral-garlic",
      "cell_type": "code",
      "source": "SVMRegressor.predict(xtest)",
      "metadata": {},
      "outputs": [
        {
          "data": {
            "text/plain": [
              "array([0.23275725, 0.54762568, 0.29908053, 0.12722161, 0.41065601,\n",
              "       0.08388503, 0.45971178, 0.14436947, 0.1525984 , 0.16252529,\n",
              "       0.45395719, 0.06817047, 0.13202808, 0.04390456, 0.06685693,\n",
              "       0.07132613, 0.29532778, 0.62031883, 0.44764278, 0.85210807,\n",
              "       0.09182917, 0.06509085, 0.24223174, 0.86476967, 0.13798581,\n",
              "       0.24065346, 0.23864365, 0.10157138, 0.10450642, 0.07345617,\n",
              "       0.19949462, 0.13664384, 0.21866512, 0.07139931, 0.07739293,\n",
              "       0.19301656, 0.19243951, 0.18358786, 0.08896158, 0.31358089,\n",
              "       0.05268765, 0.50486632, 0.60623747, 0.26901645, 0.76708013,\n",
              "       0.27905273, 0.20797062, 0.3646954 , 0.06096998])"
            ]
          },
          "execution_count": 30,
          "metadata": {},
          "output_type": "execute_result"
        }
      ],
      "execution_count": 30
    },
    {
      "id": "pursuant-information",
      "cell_type": "code",
      "source": "xtest.shape",
      "metadata": {},
      "outputs": [
        {
          "data": {
            "text/plain": [
              "(49, 12)"
            ]
          },
          "execution_count": 31,
          "metadata": {},
          "output_type": "execute_result"
        }
      ],
      "execution_count": 31
    },
    {
      "id": "spare-anchor",
      "cell_type": "code",
      "source": "ypredictSVM = SVMRegressor.predict(xtest)",
      "metadata": {},
      "outputs": [],
      "execution_count": 32
    },
    {
      "id": "static-notion",
      "cell_type": "code",
      "source": "maeSVM = mean_absolute_error(ytest, ypredictSVM)",
      "metadata": {},
      "outputs": [],
      "execution_count": 33
    },
    {
      "id": "signed-campus",
      "cell_type": "code",
      "source": "print(maeSVM)",
      "metadata": {},
      "outputs": [
        {
          "name": "stdout",
          "output_type": "stream",
          "text": "0.05575545420422075\n"
        }
      ],
      "execution_count": 261
    },
    {
      "id": "industrial-victoria",
      "cell_type": "markdown",
      "source": "## Task 1.3 Assessment of Regression\n- ### Random Forest Regressor\n- ### Multi-Layer Perceptron Regressor\n- ### Support Vector Machine",
      "metadata": {}
    },
    {
      "id": "possible-contrast",
      "cell_type": "markdown",
      "source": "- ### Random Forest Regressor",
      "metadata": {}
    },
    {
      "id": "auburn-destination",
      "cell_type": "code",
      "source": "scoresRF = cross_val_score(RFregressor, x, y, cv=10)",
      "metadata": {},
      "outputs": [],
      "execution_count": 35
    },
    {
      "id": "infrared-kruger",
      "cell_type": "code",
      "source": "print(scoresRF)",
      "metadata": {},
      "outputs": [
        {
          "name": "stdout",
          "output_type": "stream",
          "text": "[0.98257666 0.99195505 0.96031038 0.95459053 0.98844807 0.99333857\n, 0.98204977 0.9457096  0.97123678 0.97997302]\n"
        }
      ],
      "execution_count": 36
    },
    {
      "id": "sensitive-radius",
      "cell_type": "markdown",
      "source": "- ### Multi-Layer Perceptron Regressor",
      "metadata": {}
    },
    {
      "id": "motivated-container",
      "cell_type": "code",
      "source": "scoresPerceptron = cross_val_score(MultiLayerPerceptronRegressor, x, y, cv=10) ",
      "metadata": {},
      "outputs": [],
      "execution_count": 37
    },
    {
      "id": "auburn-artist",
      "cell_type": "code",
      "source": "print(scoresPerceptron)",
      "metadata": {
        "scrolled": true
      },
      "outputs": [
        {
          "name": "stdout",
          "output_type": "stream",
          "text": "[0.70279878 0.91676998 0.94811387 0.93260704 0.70554723 0.88998058\n, 0.93467549 0.94176336 0.9579651  0.92236336]\n"
        }
      ],
      "execution_count": 38
    },
    {
      "id": "mature-entertainment",
      "cell_type": "markdown",
      "source": "- ### Support Vector Machine",
      "metadata": {}
    },
    {
      "id": "effective-holiday",
      "cell_type": "code",
      "source": "scoresSVM = cross_val_score(SVMRegressor, x, y, cv = 10)",
      "metadata": {},
      "outputs": [],
      "execution_count": 39
    },
    {
      "id": "harmful-optimum",
      "cell_type": "code",
      "source": "print(scoresSVM)",
      "metadata": {
        "scrolled": true
      },
      "outputs": [
        {
          "name": "stdout",
          "output_type": "stream",
          "text": "[0.15169846 0.93164586 0.85367135 0.93026818 0.6578081  0.79667494\n, 0.87468344 0.89970461 0.96935086 0.86843774]\n"
        }
      ],
      "execution_count": 40
    },
    {
      "id": "driven-heritage",
      "cell_type": "code",
      "source": "fig1, ax1 = plt.subplots()\nplt.title('Success of machine learning [applications]')\nax1.boxplot([scoresRF,scoresSVM, scoresPerceptron], labels = ['RF','SVM', 'MLP'])\n#titles for each boxplot\n",
      "metadata": {},
      "outputs": [
        {
          "data": {
            "text/plain": [
              "{'whiskers': [<matplotlib.lines.Line2D at 0x2911e74d610>,\n",
              "  <matplotlib.lines.Line2D at 0x2911e74d970>,\n",
              "  <matplotlib.lines.Line2D at 0x2911e765e20>,\n",
              "  <matplotlib.lines.Line2D at 0x2911e76e1c0>,\n",
              "  <matplotlib.lines.Line2D at 0x2911e779640>,\n",
              "  <matplotlib.lines.Line2D at 0x2911e7799a0>],\n",
              " 'caps': [<matplotlib.lines.Line2D at 0x2911e74dcd0>,\n",
              "  <matplotlib.lines.Line2D at 0x2911e765070>,\n",
              "  <matplotlib.lines.Line2D at 0x2911e76e520>,\n",
              "  <matplotlib.lines.Line2D at 0x2911e76e880>,\n",
              "  <matplotlib.lines.Line2D at 0x2911e779d00>,\n",
              "  <matplotlib.lines.Line2D at 0x2911e7830a0>],\n",
              " 'boxes': [<matplotlib.lines.Line2D at 0x2911e74d250>,\n",
              "  <matplotlib.lines.Line2D at 0x2911e765ac0>,\n",
              "  <matplotlib.lines.Line2D at 0x2911e7792e0>],\n",
              " 'medians': [<matplotlib.lines.Line2D at 0x2911e7653d0>,\n",
              "  <matplotlib.lines.Line2D at 0x2911e76ebe0>,\n",
              "  <matplotlib.lines.Line2D at 0x2911e783400>],\n",
              " 'fliers': [<matplotlib.lines.Line2D at 0x2911e765730>,\n",
              "  <matplotlib.lines.Line2D at 0x2911e76ef40>,\n",
              "  <matplotlib.lines.Line2D at 0x2911e783760>],\n",
              " 'means': []}"
            ]
          },
          "execution_count": 41,
          "metadata": {},
          "output_type": "execute_result"
        },
        {
          "data": {
            "image/png": "[encoded data removed]",
            "text/plain": [
              "<Figure size 432x288 with 1 Axes>"
            ]
          },
          "metadata": {
            "needs_background": "light"
          },
          "output_type": "display_data"
        }
      ],
      "execution_count": 41
    },
    {
      "id": "judicial-cinema",
      "cell_type": "markdown",
      "source": "### comparing the success of the machine learning applications\nAlthough the best results of the other 2 (SVM and Multi Layer Perceptron) implementations of machine learning can do better than the worst performing result of the Random Forest, It's superior to in terms of average performance and has a smaller margin of error for the same sample size. Even considering the removal of outliers (approx. 0.2 for svm and 0.7 for MLP) of the support vector machine and the multi layer perceptron, although the median might be higher, the best performing results do not exceed the random forest implementation. In terms of which model should be used as a predictor for the regression problem, the random forest is a better choice and should be used over the other 2.",
      "metadata": {}
    },
    {
      "id": "sonic-magazine",
      "cell_type": "markdown",
      "source": "- ### Loading the data",
      "metadata": {}
    },
    {
      "id": "revolutionary-location",
      "cell_type": "code",
      "source": "# Loading cities data\ndataframeCities = pd.read_csv('cities_short_corrected.csv', header=None)\n#loading distances data\ndataframeDistances = pd.read_csv('distances_short_corrected.csv', header=None)",
      "metadata": {},
      "outputs": [],
      "execution_count": 56
    },
    {
      "id": "photographic-resolution",
      "cell_type": "code",
      "source": "print(dataframeCities)\n# potential error for not counting plymouth as 0!!",
      "metadata": {},
      "outputs": [
        {
          "name": "stdout",
          "output_type": "stream",
          "text": "           0\n,0   Plymouth\n,1    Bristol\n,2     London\n,3    Cardiff\n,4  Edinburgh\n"
        }
      ],
      "execution_count": 57
    },
    {
      "id": "subjective-giant",
      "cell_type": "code",
      "source": "print(dataframeDistances)\n# potential error for not counting first row as 0!!\n# check dataframe pandas documentation!!",
      "metadata": {},
      "outputs": [
        {
          "name": "stdout",
          "output_type": "stream",
          "text": "     0    1    2    3    4\n,0    0  122  237  151  487\n,1  122    0  118   45  373\n,2  237  118    0  151  403\n,3  151   45  151    0  394\n,4  487  373  403  394    0\n"
        }
      ],
      "execution_count": 58
    },
    {
      "id": "sorted-classification",
      "cell_type": "markdown",
      "source": "- ### Random Route Distance Function",
      "metadata": {}
    },
    {
      "id": "stylish-checkout",
      "cell_type": "code",
      "source": "def randomRouteDistance(firstCity, secondCity, thirdCity, fourthCity, fifthCity):\n    #indexing the cities passed as parameters (included in same function just to show it's in one function)\n    firstCityIndex = dataframeCities.index.get_loc(dataframeCities.index[dataframeCities[0] == firstCity][0])\n    secondCityIndex = dataframeCities.index.get_loc(dataframeCities.index[dataframeCities[0] == secondCity][0])\n    thirdCityIndex = dataframeCities.index.get_loc(dataframeCities.index[dataframeCities[0] == thirdCity][0])\n    fourthCityIndex = dataframeCities.index.get_loc(dataframeCities.index[dataframeCities[0] == fourthCity][0])\n    fifthCityIndex = dataframeCities.index.get_loc(dataframeCities.index[dataframeCities[0] == fifthCity][0])\n    \n    #calculating the distance\n    \n    routeOne = dataframeDistances.values[firstCityIndex, secondCityIndex]\n    routeTwo = dataframeDistances.values[secondCityIndex, thirdCityIndex]\n    routeThree = dataframeDistances.values[thirdCityIndex, fourthCityIndex]\n    routeFour = dataframeDistances.values[fourthCityIndex, fifthCityIndex]\n    totalRouteDistance = routeOne + routeTwo + routeThree + routeFour\n    \n    #showing the route\n    \n    print('Route: ' + firstCity + ', ' + secondCity + ', ' + thirdCity + ', ' + fourthCity + ', ' + fifthCity)\n    print(totalRouteDistance)",
      "metadata": {},
      "outputs": [],
      "execution_count": 167
    },
    {
      "id": "fitted-injection",
      "cell_type": "markdown",
      "source": "- ### Calling the function",
      "metadata": {}
    },
    {
      "id": "intellectual-struggle",
      "cell_type": "code",
      "source": "randomRouteDistance('London', 'Plymouth','Cardiff', 'Bristol', 'Edinburgh')",
      "metadata": {},
      "outputs": [
        {
          "name": "stdout",
          "output_type": "stream",
          "text": "Route: London, Plymouth, Cardiff, Bristol, Edinburgh\n,806\n"
        }
      ],
      "execution_count": 168
    },
    {
      "id": "eligible-shade",
      "cell_type": "markdown",
      "source": "- ### swap operator",
      "metadata": {}
    },
    {
      "id": "smoking-convert",
      "cell_type": "code",
      "source": "def swapRandomCity(cityArray):\n    cityArrayIndex = [0,1,2,3,4]\n    \n    #print(len(cityArrayIndex))\n    cityOne = cityArrayIndex.pop(random.randint(0, len(cityArrayIndex) -1))\n    #print(cityOne)\n    #print(len(cityArrayIndex))\n    cityTwo = cityArrayIndex.pop(random.randint(0, len(cityArrayIndex) - 1))\n    #print(cityTwo)\n    #easier and simpler way to do ^^ !!\n    temp = cityArray[cityOne]\n    cityArray[cityOne] = cityArray[cityTwo]\n    cityArray[cityTwo] = temp\n    return cityArray",
      "metadata": {},
      "outputs": [],
      "execution_count": 213
    },
    {
      "id": "sought-biotechnology",
      "cell_type": "code",
      "source": "fiveCities = ['London', 'Plymouth','Cardiff', 'Bristol', 'Edinburgh']",
      "metadata": {},
      "outputs": [],
      "execution_count": 222
    },
    {
      "id": "thrown-sauce",
      "cell_type": "code",
      "source": "swapRandomCity(fiveCities)",
      "metadata": {},
      "outputs": [
        {
          "data": {
            "text/plain": [
              "['London', 'Cardiff', 'Plymouth', 'Bristol', 'Edinburgh']"
            ]
          },
          "execution_count": 223,
          "metadata": {},
          "output_type": "execute_result"
        }
      ],
      "execution_count": 223
    },
    {
      "id": "civic-attempt",
      "cell_type": "code",
      "source": "def calcDistance(cityArray, routeDistance):\n    #indexing the cities passed as parameters (included in same function just to show it's in one function)\n    firstCityIndex = dataframeCities.index.get_loc(dataframeCities.index[dataframeCities[0] == cityArray[0]][0])\n    secondCityIndex = dataframeCities.index.get_loc(dataframeCities.index[dataframeCities[0] == cityArray[1]][0])\n    thirdCityIndex = dataframeCities.index.get_loc(dataframeCities.index[dataframeCities[0] == cityArray[2]][0])\n    fourthCityIndex = dataframeCities.index.get_loc(dataframeCities.index[dataframeCities[0] == cityArray[3]][0])\n    fifthCityIndex = dataframeCities.index.get_loc(dataframeCities.index[dataframeCities[0] == cityArray[4]][0])\n    \n    #calculating the distance\n    \n    routeOne = dataframeDistances.values[firstCityIndex, secondCityIndex]\n    routeTwo = dataframeDistances.values[secondCityIndex, thirdCityIndex]\n    routeThree = dataframeDistances.values[thirdCityIndex, fourthCityIndex]\n    routeFour = dataframeDistances.values[fourthCityIndex, fifthCityIndex]\n    totalRouteDistance = routeOne + routeTwo + routeThree + routeFour\n    routeDistance.append(totalRouteDistance)\n    print(routeDistance)\n    \n    #showing the route\n    \n    print('Route: ' + cityArray[0] + ', ' + cityArray[1] + ', ' + cityArray[2] + ', ' + cityArray[3] + ', ' + cityArray[4])\n    print(totalRouteDistance)\n    return cityArray\n    return routeDistance",
      "metadata": {},
      "outputs": [],
      "execution_count": 226
    },
    {
      "id": "starting-counter",
      "cell_type": "code",
      "source": "routeDistance = [0]\ncalcDistance(fiveCities, routeDistance)",
      "metadata": {},
      "outputs": [
        {
          "name": "stdout",
          "output_type": "stream",
          "text": "Route: Cardiff, London, Edinburgh, Plymouth, Bristol\n,1163\n"
        },
        {
          "data": {
            "text/plain": [
              "['Cardiff', 'London', 'Edinburgh', 'Plymouth', 'Bristol']"
            ]
          },
          "execution_count": 258,
          "metadata": {},
          "output_type": "execute_result"
        }
      ],
      "execution_count": 258
    },
    {
      "id": "substantial-findings",
      "cell_type": "markdown",
      "source": "- ### single parent generates single child using swap operator",
      "metadata": {}
    },
    {
      "id": "nearby-journalist",
      "cell_type": "code",
      "source": "i = 0\nwhile i < 30:\n    swapRandomCity(fiveCities)\n    calcDistance(fiveCities, routeDistance)\n    \n    i += 1",
      "metadata": {},
      "outputs": [
        {
          "name": "stdout",
          "output_type": "stream",
          "text": "[797, 797, 1040]\n,Route: London, Cardiff, Edinburgh, Bristol, Plymouth\n,1040\n,[797, 797, 1040, 1142]\n,Route: London, Plymouth, Edinburgh, Bristol, Cardiff\n,1142\n,[797, 797, 1040, 1142, 1058]\n,Route: Plymouth, London, Edinburgh, Bristol, Cardiff\n,1058\n,[797, 797, 1040, 1142, 1058, 1159]\n,Route: Bristol, London, Edinburgh, Plymouth, Cardiff\n,1159\n,[797, 797, 1040, 1142, 1058, 1159, 907]\n,Route: Bristol, London, Cardiff, Plymouth, Edinburgh\n,907\n,[797, 797, 1040, 1142, 1058, 1159, 907, 1159]\n,Route: Bristol, London, Edinburgh, Plymouth, Cardiff\n,1159\n,[797, 797, 1040, 1142, 1058, 1159, 907, 1159, 907]\n,Route: Bristol, London, Cardiff, Plymouth, Edinburgh\n,907\n,[797, 797, 1040, 1142, 1058, 1159, 907, 1159, 907, 900]\n,Route: Bristol, London, Plymouth, Cardiff, Edinburgh\n,900\n,[797, 797, 1040, 1142, 1058, 1159, 907, 1159, 907, 900, 904]\n,Route: Bristol, Plymouth, London, Cardiff, Edinburgh\n,904\n,[797, 797, 1040, 1142, 1058, 1159, 907, 1159, 907, 900, 904, 920]\n,Route: Bristol, Cardiff, London, Plymouth, Edinburgh\n,920\n,[797, 797, 1040, 1142, 1058, 1159, 907, 1159, 907, 900, 904, 920, 1164]\n,Route: Bristol, Edinburgh, London, Plymouth, Cardiff\n,1164\n,[797, 797, 1040, 1142, 1058, 1159, 907, 1159, 907, 900, 904, 920, 1164, 1155]\n,Route: Bristol, Edinburgh, Cardiff, Plymouth, London\n,1155\n,[797, 797, 1040, 1142, 1058, 1159, 907, 1159, 907, 900, 904, 920, 1164, 1155, 1162]\n,Route: Bristol, Edinburgh, Plymouth, Cardiff, London\n,1162\n,[797, 797, 1040, 1142, 1058, 1159, 907, 1159, 907, 900, 904, 920, 1164, 1155, 1162, 1155]\n,Route: Bristol, Edinburgh, Cardiff, Plymouth, London\n,1155\n,[797, 797, 1040, 1142, 1058, 1159, 907, 1159, 907, 900, 904, 920, 1164, 1155, 1162, 1155, 806]\n,Route: Edinburgh, Bristol, Cardiff, Plymouth, London\n,806\n,[797, 797, 1040, 1142, 1058, 1159, 907, 1159, 907, 900, 904, 920, 1164, 1155, 1162, 1155, 806, 797]\n,Route: Edinburgh, Bristol, Plymouth, Cardiff, London\n,797\n,[797, 797, 1040, 1142, 1058, 1159, 907, 1159, 907, 900, 904, 920, 1164, 1155, 1162, 1155, 806, 797, 1057]\n,Route: Cardiff, Bristol, Plymouth, Edinburgh, London\n,1057\n,[797, 797, 1040, 1142, 1058, 1159, 907, 1159, 907, 900, 904, 920, 1164, 1155, 1162, 1155, 806, 797, 1057, 1053]\n,Route: Cardiff, Bristol, London, Edinburgh, Plymouth\n,1053\n,[797, 797, 1040, 1142, 1058, 1159, 907, 1159, 907, 900, 904, 920, 1164, 1155, 1162, 1155, 806, 797, 1057, 1053, 1044]\n,Route: London, Bristol, Cardiff, Edinburgh, Plymouth\n,1044\n,[797, 797, 1040, 1142, 1058, 1159, 907, 1159, 907, 900, 904, 920, 1164, 1155, 1162, 1155, 806, 797, 1057, 1053, 1044, 1036]\n,Route: London, Bristol, Edinburgh, Cardiff, Plymouth\n,1036\n,[797, 797, 1040, 1142, 1058, 1159, 907, 1159, 907, 900, 904, 920, 1164, 1155, 1162, 1155, 806, 797, 1057, 1053, 1044, 1036, 1066]\n,Route: Bristol, London, Edinburgh, Cardiff, Plymouth\n,1066\n,[797, 797, 1040, 1142, 1058, 1159, 907, 1159, 907, 900, 904, 920, 1164, 1155, 1162, 1155, 806, 797, 1057, 1053, 1044, 1036, 1066, 1150]\n,Route: Bristol, London, Cardiff, Edinburgh, Plymouth\n,1150\n,[797, 797, 1040, 1142, 1058, 1159, 907, 1159, 907, 900, 904, 920, 1164, 1155, 1162, 1155, 806, 797, 1057, 1053, 1044, 1036, 1066, 1150, 1155]\n,Route: Bristol, Edinburgh, Cardiff, London, Plymouth\n,1155\n,[797, 797, 1040, 1142, 1058, 1159, 907, 1159, 907, 900, 904, 920, 1164, 1155, 1162, 1155, 806, 797, 1057, 1053, 1044, 1036, 1066, 1150, 1155, 1122]\n,Route: Cardiff, Edinburgh, Bristol, London, Plymouth\n,1122\n,[797, 797, 1040, 1142, 1058, 1159, 907, 1159, 907, 900, 904, 920, 1164, 1155, 1162, 1155, 806, 797, 1057, 1053, 1044, 1036, 1066, 1150, 1155, 1122, 794]\n,Route: Cardiff, Plymouth, Bristol, London, Edinburgh\n,794\n,[797, 797, 1040, 1142, 1058, 1159, 907, 1159, 907, 900, 904, 920, 1164, 1155, 1162, 1155, 806, 797, 1057, 1053, 1044, 1036, 1066, 1150, 1155, 1122, 794, 827]\n,Route: Bristol, Plymouth, Cardiff, London, Edinburgh\n,827\n,[797, 797, 1040, 1142, 1058, 1159, 907, 1159, 907, 900, 904, 920, 1164, 1155, 1162, 1155, 806, 797, 1057, 1053, 1044, 1036, 1066, 1150, 1155, 1122, 794, 827, 907]\n,Route: Bristol, London, Cardiff, Plymouth, Edinburgh\n,907\n,[797, 797, 1040, 1142, 1058, 1159, 907, 1159, 907, 900, 904, 920, 1164, 1155, 1162, 1155, 806, 797, 1057, 1053, 1044, 1036, 1066, 1150, 1155, 1122, 794, 827, 907, 920]\n,Route: Bristol, Cardiff, London, Plymouth, Edinburgh\n,920\n,[797, 797, 1040, 1142, 1058, 1159, 907, 1159, 907, 900, 904, 920, 1164, 1155, 1162, 1155, 806, 797, 1057, 1053, 1044, 1036, 1066, 1150, 1155, 1122, 794, 827, 907, 920, 1164]\n,Route: Bristol, Edinburgh, London, Plymouth, Cardiff\n,1164\n,[797, 797, 1040, 1142, 1058, 1159, 907, 1159, 907, 900, 904, 920, 1164, 1155, 1162, 1155, 806, 797, 1057, 1053, 1044, 1036, 1066, 1150, 1155, 1122, 794, 827, 907, 920, 1164, 920]\n,Route: Bristol, Cardiff, London, Plymouth, Edinburgh\n,920\n"
        }
      ],
      "execution_count": 232
    },
    {
      "id": "exterior-courage",
      "cell_type": "code",
      "source": "def bestFitnessSwap(cityArray):\n    cityArrayIndex = [0,1,2,3,4]\n    \n    #print(len(cityArrayIndex))\n    cityOne = cityArrayIndex.pop(random.randint(0, len(cityArrayIndex) -1))\n    #print(cityOne)\n    #print(len(cityArrayIndex))\n    cityTwo = cityArrayIndex.pop(random.randint(0, len(cityArrayIndex) - 1))\n    #print(cityTwo)\n    #easier and simpler way to do ^^ !!\n    temp = cityArray[cityOne]\n    cityArray[cityOne] = cityArray[cityTwo]\n    cityArray[cityTwo] = temp\n    return cityArray",
      "metadata": {},
      "outputs": [],
      "execution_count": null
    },
    {
      "id": "gross-secretary",
      "cell_type": "code",
      "source": "def calcDistance(cityArray, routeDistance):\n    #indexing the cities passed as parameters (included in same function just to show it's in one function)\n    firstCityIndex = dataframeCities.index.get_loc(dataframeCities.index[dataframeCities[0] == cityArray[0]][0])\n    secondCityIndex = dataframeCities.index.get_loc(dataframeCities.index[dataframeCities[0] == cityArray[1]][0])\n    thirdCityIndex = dataframeCities.index.get_loc(dataframeCities.index[dataframeCities[0] == cityArray[2]][0])\n    fourthCityIndex = dataframeCities.index.get_loc(dataframeCities.index[dataframeCities[0] == cityArray[3]][0])\n    fifthCityIndex = dataframeCities.index.get_loc(dataframeCities.index[dataframeCities[0] == cityArray[4]][0])\n    \n    #calculating the distance\n    \n    routeOne = dataframeDistances.values[firstCityIndex, secondCityIndex]\n    routeTwo = dataframeDistances.values[secondCityIndex, thirdCityIndex]\n    routeThree = dataframeDistances.values[thirdCityIndex, fourthCityIndex]\n    routeFour = dataframeDistances.values[fourthCityIndex, fifthCityIndex]\n    totalRouteDistance = routeOne + routeTwo + routeThree + routeFour\n    if routeDistance[-1] > totalRouteDistance:\n        routeDistance.append(totalRouteDistance)\n        print(routeDistance)\n        bestRoute = cityArray\n    if routeDistance[0] == 10000:\n        routeDistance.pop(0)\n    \n    #showing the route\n    \n    \n    print('Route: ' + cityArray[0] + ', ' + cityArray[1] + ', ' + cityArray[2] + ', ' + cityArray[3] + ', ' + cityArray[4])\n    print(totalRouteDistance)\n    return cityArray\n    return routeDistance\n    return bestRoute",
      "metadata": {},
      "outputs": [],
      "execution_count": 271
    },
    {
      "id": "amino-detection",
      "cell_type": "code",
      "source": "i = 0\nrouteDistance = [10000]\n#sort out^^\nfiveCities = ['London', 'Plymouth','Cardiff', 'Bristol', 'Edinburgh']\nwhile i < 30:\n    swapRandomCity(fiveCities)\n    calcDistance(fiveCities, routeDistance)\n    \n    i += 1\n    \nprint(bestRoute)",
      "metadata": {},
      "outputs": [
        {
          "name": "stdout",
          "output_type": "stream",
          "text": "[10000, 1155]\n,Route: London, Plymouth, Cardiff, Edinburgh, Bristol\n,1155\n,Route: London, Cardiff, Plymouth, Edinburgh, Bristol\n,1162\n,[1155, 1086]\n,Route: Bristol, Cardiff, Plymouth, Edinburgh, London\n,1086\n,Route: Bristol, Edinburgh, Plymouth, Cardiff, London\n,1162\n,Route: Cardiff, Edinburgh, Plymouth, Bristol, London\n,1121\n,[1155, 1086, 883]\n,Route: Cardiff, London, Plymouth, Bristol, Edinburgh\n,883\n,[1155, 1086, 883, 878]\n,Route: Cardiff, London, Bristol, Plymouth, Edinburgh\n,878\n,Route: Cardiff, London, Plymouth, Bristol, Edinburgh\n,883\n,[1155, 1086, 883, 878, 807]\n,Route: Cardiff, Bristol, Plymouth, London, Edinburgh\n,807\n,Route: Cardiff, London, Plymouth, Bristol, Edinburgh\n,883\n,Route: Cardiff, Edinburgh, Plymouth, Bristol, London\n,1121\n,Route: London, Edinburgh, Plymouth, Bristol, Cardiff\n,1057\n,Route: Cardiff, Edinburgh, Plymouth, Bristol, London\n,1121\n,Route: Cardiff, Edinburgh, Bristol, Plymouth, London\n,1126\n,Route: Cardiff, Plymouth, Bristol, Edinburgh, London\n,1049\n,[1155, 1086, 883, 878, 807, 805]\n,Route: Edinburgh, Plymouth, Bristol, Cardiff, London\n,805\n,Route: Bristol, Plymouth, Edinburgh, Cardiff, London\n,1154\n,Route: London, Plymouth, Edinburgh, Cardiff, Bristol\n,1163\n,Route: Bristol, Plymouth, Edinburgh, Cardiff, London\n,1154\n,Route: London, Plymouth, Edinburgh, Cardiff, Bristol\n,1163\n,Route: Edinburgh, Plymouth, London, Cardiff, Bristol\n,920\n,Route: Edinburgh, London, Plymouth, Cardiff, Bristol\n,836\n,[1155, 1086, 883, 878, 807, 805, 797]\n,Route: Edinburgh, Bristol, Plymouth, Cardiff, London\n,797\n,Route: Edinburgh, Plymouth, Bristol, Cardiff, London\n,805\n,Route: Edinburgh, Bristol, Plymouth, Cardiff, London\n,797\n,Route: Bristol, Edinburgh, Plymouth, Cardiff, London\n,1162\n,Route: Cardiff, Edinburgh, Plymouth, Bristol, London\n,1121\n,[1155, 1086, 883, 878, 807, 805, 797, 785]\n,Route: Edinburgh, Cardiff, Plymouth, Bristol, London\n,785\n,Route: Plymouth, Cardiff, Edinburgh, Bristol, London\n,1036\n,Route: Cardiff, Plymouth, Edinburgh, Bristol, London\n,1129\n"
        },
        {
          "ename": "NameError",
          "evalue": "name 'bestRoute' is not defined",
          "output_type": "error",
          "traceback": [
            "\u001b[1;31m---------------------------------------------------------------------------\u001b[0m",
            "\u001b[1;31mNameError\u001b[0m                                 Traceback (most recent call last)",
            "\u001b[1;32m<ipython-input-272-389de7115a03>\u001b[0m in \u001b[0;36m<module>\u001b[1;34m\u001b[0m\n\u001b[0;32m      9\u001b[0m     \u001b[0mi\u001b[0m \u001b[1;33m+=\u001b[0m \u001b[1;36m1\u001b[0m\u001b[1;33m\u001b[0m\u001b[1;33m\u001b[0m\u001b[0m\n\u001b[0;32m     10\u001b[0m \u001b[1;33m\u001b[0m\u001b[0m\n\u001b[1;32m---> 11\u001b[1;33m \u001b[0mprint\u001b[0m\u001b[1;33m(\u001b[0m\u001b[0mbestRoute\u001b[0m\u001b[1;33m)\u001b[0m\u001b[1;33m\u001b[0m\u001b[1;33m\u001b[0m\u001b[0m\n\u001b[0m",
            "\u001b[1;31mNameError\u001b[0m: name 'bestRoute' is not defined"
          ]
        }
      ],
      "execution_count": 272
    },
    {
      "id": "seeing-local",
      "cell_type": "code",
      "source": "# routes tried added to swap city (to stop repeating previously tried routes)\n# ",
      "metadata": {},
      "outputs": [],
      "execution_count": null
    }
  ]
}